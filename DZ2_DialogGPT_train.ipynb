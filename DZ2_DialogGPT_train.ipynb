{
 "cells": [
  {
   "cell_type": "code",
   "execution_count": 1,
   "id": "b2007c6b",
   "metadata": {
    "execution": {
     "iopub.execute_input": "2023-09-26T21:09:53.784259Z",
     "iopub.status.busy": "2023-09-26T21:09:53.783770Z",
     "iopub.status.idle": "2023-09-26T21:10:02.988491Z",
     "shell.execute_reply": "2023-09-26T21:10:02.987430Z"
    },
    "papermill": {
     "duration": 9.221042,
     "end_time": "2023-09-26T21:10:02.991840",
     "exception": false,
     "start_time": "2023-09-26T21:09:53.770798",
     "status": "completed"
    },
    "tags": []
   },
   "outputs": [],
   "source": [
    "import numpy as np\n",
    "\n",
    "import unicodedata\n",
    "import re\n",
    "import json\n",
    "import random\n",
    "\n",
    "import nltk\n",
    "from nltk.stem.porter import PorterStemmer\t\n",
    "stemmer = PorterStemmer()\n",
    "\n",
    "from transformers import BertTokenizer\n",
    "from transformers import AutoTokenizer, AutoModelForSequenceClassification\n",
    "from transformers import AutoModelForCausalLM, AutoTokenizer\n",
    "\n",
    "import torch\n",
    "import torch.nn as nn\n",
    "from torch.utils.data import Dataset, DataLoader\n",
    "\n",
    "import matplotlib.pyplot as plt\n",
    "from tqdm import tqdm\n",
    "\n",
    "import pickle\n",
    "\n",
    "import warnings \n",
    "warnings.filterwarnings('ignore')\n"
   ]
  },
  {
   "cell_type": "code",
   "execution_count": 2,
   "id": "9631a063",
   "metadata": {},
   "outputs": [],
   "source": [
    "from Get_Data import GetData"
   ]
  },
  {
   "cell_type": "code",
   "execution_count": 3,
   "id": "70ccc34a",
   "metadata": {},
   "outputs": [],
   "source": [
    "# from huggingface_hub import login\n",
    "# login()"
   ]
  },
  {
   "cell_type": "code",
   "execution_count": 4,
   "id": "36d4c349",
   "metadata": {},
   "outputs": [],
   "source": [
    "dialog_question, dialog_answer = GetData()"
   ]
  },
  {
   "cell_type": "code",
   "execution_count": 5,
   "id": "9d7cc824",
   "metadata": {},
   "outputs": [],
   "source": [
    "# Загрузка токенизатора и модели\n",
    "tokenizer = AutoTokenizer.from_pretrained(\"microsoft/DialoGPT-large\", padding_side='left')\n",
    "model = AutoModelForCausalLM.from_pretrained(\"microsoft/DialoGPT-large\")"
   ]
  },
  {
   "cell_type": "code",
   "execution_count": 6,
   "id": "780e31c7",
   "metadata": {},
   "outputs": [],
   "source": [
    "# Установка токена паддинга\n",
    "tokenizer.pad_token = tokenizer.eos_token\n",
    "\n",
    "# Токенизация данных с явным указанием параметра padding\n",
    "tokenized_question = tokenizer(dialog_question, return_tensors=\"pt\", truncation=True, padding=True)\n",
    "tokenized_answer = tokenizer(dialog_answer, return_tensors=\"pt\", truncation=True, padding=True)"
   ]
  },
  {
   "cell_type": "code",
   "execution_count": 7,
   "id": "8a1fbffd",
   "metadata": {},
   "outputs": [],
   "source": [
    "# Определение класса MyDataset, который наследуется от torch.utils.data.Dataset\n",
    "class MyDataset(Dataset):\n",
    "    # Конструктор класса\n",
    "    def __init__(self, dialog_question, dialog_answer, tokenizer):\n",
    "        # Сохранение переданных данных в атрибуты класса\n",
    "        self.dialog_question = dialog_question\n",
    "        self.dialog_answer = dialog_answer\n",
    "        self.tokenizer = tokenizer\n",
    "\n",
    "    # Метод, возвращающий длину датасета\n",
    "    def __len__(self):\n",
    "        return len(self.dialog_question)\n",
    "\n",
    "    # Метод, возвращающий элемент датасета по указанному индексу\n",
    "    def __getitem__(self, idx):\n",
    "        # Получение elrian_input и leonard_target для текущего индекса\n",
    "        input = self.dialog_question[idx]\n",
    "        target = self.dialog_answer[idx]\n",
    "\n",
    "        # Токенизация elrian_input с добавлением токенов паддинга и обрезкой\n",
    "        tokenized_data = self.tokenizer(input, return_tensors=\"pt\", padding=True, truncation=True)\n",
    "\n",
    "        # Создание меток (labels) путем сдвига входной последовательности\n",
    "        labels = self.tokenizer(target, return_tensors=\"pt\", padding=True, truncation=True)[\"input_ids\"]\n",
    "\n",
    "         # Возвращение словаря с ключами \"input_ids\" и \"labels\", сжатых до размерности 1\n",
    "        return {\n",
    "            \"input_ids\": tokenized_data[\"input_ids\"].squeeze(),\n",
    "            \"labels\": labels.squeeze()\n",
    "        }\n"
   ]
  },
  {
   "cell_type": "code",
   "execution_count": 8,
   "id": "17d2ca72",
   "metadata": {},
   "outputs": [],
   "source": [
    "# Создание экземпляра датасета и DataLoader\n",
    "my_dataset = MyDataset(dialog_question, dialog_answer, tokenizer)\n",
    "train_data_loader = DataLoader(my_dataset, batch_size=16, shuffle=True, collate_fn=lambda batch: batch)"
   ]
  },
  {
   "cell_type": "code",
   "execution_count": 9,
   "id": "ac860c54",
   "metadata": {},
   "outputs": [],
   "source": [
    "# Подготовка модели для дообучения\n",
    "# тут добавляю новый слой который планирую дообучать\n",
    "# в связи с малым датасетом, обуение до слоя шло очень плохо.\n",
    "# код оставлю, что бы показать, то как это делал\n",
    "# new_layer = torch.nn.Linear(model.config.hidden_size, len(tokenizer.get_vocab()))\n",
    "# model.lm_head = new_layer"
   ]
  },
  {
   "cell_type": "code",
   "execution_count": 10,
   "id": "4d1dcde9",
   "metadata": {},
   "outputs": [
    {
     "data": {
      "text/plain": [
       "GPT2LMHeadModel(\n",
       "  (transformer): GPT2Model(\n",
       "    (wte): Embedding(50257, 1280)\n",
       "    (wpe): Embedding(1024, 1280)\n",
       "    (drop): Dropout(p=0.1, inplace=False)\n",
       "    (h): ModuleList(\n",
       "      (0-35): 36 x GPT2Block(\n",
       "        (ln_1): LayerNorm((1280,), eps=1e-05, elementwise_affine=True)\n",
       "        (attn): GPT2Attention(\n",
       "          (c_attn): Conv1D()\n",
       "          (c_proj): Conv1D()\n",
       "          (attn_dropout): Dropout(p=0.1, inplace=False)\n",
       "          (resid_dropout): Dropout(p=0.1, inplace=False)\n",
       "        )\n",
       "        (ln_2): LayerNorm((1280,), eps=1e-05, elementwise_affine=True)\n",
       "        (mlp): GPT2MLP(\n",
       "          (c_fc): Conv1D()\n",
       "          (c_proj): Conv1D()\n",
       "          (act): NewGELUActivation()\n",
       "          (dropout): Dropout(p=0.1, inplace=False)\n",
       "        )\n",
       "      )\n",
       "    )\n",
       "    (ln_f): LayerNorm((1280,), eps=1e-05, elementwise_affine=True)\n",
       "  )\n",
       "  (lm_head): Linear(in_features=1280, out_features=50257, bias=False)\n",
       ")"
      ]
     },
     "execution_count": 10,
     "metadata": {},
     "output_type": "execute_result"
    }
   ],
   "source": [
    "device = torch.device(\"cuda\" if torch.cuda.is_available() else \"cpu\")\n",
    "# !!!! Тут хардкожу CPU, т.к. у меня не хватате памяти для обучения на видеокарте\n",
    "device = 'cpu'\n",
    "model.to(device)"
   ]
  },
  {
   "cell_type": "code",
   "execution_count": 11,
   "id": "8c3930d1",
   "metadata": {},
   "outputs": [],
   "source": [
    "# Определение оптимизатора и функции потерь\n",
    "criterion = torch.nn.CrossEntropyLoss()\n",
    "optimizer = torch.optim.AdamW(model.parameters(), lr=1e-5)"
   ]
  },
  {
   "cell_type": "code",
   "execution_count": 16,
   "id": "391a967f",
   "metadata": {},
   "outputs": [],
   "source": [
    "# всего обучал на большем количестве эпох, перезапуская после каждой итерации\n",
    "num_epochs = 30"
   ]
  },
  {
   "cell_type": "code",
   "execution_count": 13,
   "id": "80ed9c46",
   "metadata": {},
   "outputs": [],
   "source": [
    "losses = []"
   ]
  },
  {
   "cell_type": "code",
   "execution_count": 14,
   "id": "f5dad5bb",
   "metadata": {},
   "outputs": [],
   "source": [
    "# Тут загружаю историю loss для формирования графика\n",
    "# Использую в случаях, если обучение разбито на несколько сессий\n",
    "# with open('./DZ1model/DialogGPT/losses.pkl', 'rb') as file:\n",
    "#     losses = pickle.load(file)"
   ]
  },
  {
   "cell_type": "code",
   "execution_count": 17,
   "id": "43f55aaa",
   "metadata": {},
   "outputs": [
    {
     "name": "stderr",
     "output_type": "stream",
     "text": [
      "Epoch 1: 100%|██████████| 233/233 [13:56<00:00,  3.59s/it]\n"
     ]
    },
    {
     "name": "stdout",
     "output_type": "stream",
     "text": [
      "Epoch 1, Average Loss: 5.782779449045402\n"
     ]
    },
    {
     "name": "stderr",
     "output_type": "stream",
     "text": [
      "Epoch 2: 100%|██████████| 233/233 [14:09<00:00,  3.65s/it]\n"
     ]
    },
    {
     "name": "stdout",
     "output_type": "stream",
     "text": [
      "Epoch 2, Average Loss: 5.584128104054365\n"
     ]
    },
    {
     "name": "stderr",
     "output_type": "stream",
     "text": [
      "Epoch 3: 100%|██████████| 233/233 [14:05<00:00,  3.63s/it]\n"
     ]
    },
    {
     "name": "stdout",
     "output_type": "stream",
     "text": [
      "Epoch 3, Average Loss: 5.597520513084313\n"
     ]
    },
    {
     "name": "stderr",
     "output_type": "stream",
     "text": [
      "Epoch 4: 100%|██████████| 233/233 [14:02<00:00,  3.62s/it]\n"
     ]
    },
    {
     "name": "stdout",
     "output_type": "stream",
     "text": [
      "Epoch 4, Average Loss: 5.369498584403501\n"
     ]
    },
    {
     "name": "stderr",
     "output_type": "stream",
     "text": [
      "Epoch 5: 100%|██████████| 233/233 [14:07<00:00,  3.64s/it]\n"
     ]
    },
    {
     "name": "stdout",
     "output_type": "stream",
     "text": [
      "Epoch 5, Average Loss: 5.228711523211565\n"
     ]
    },
    {
     "name": "stderr",
     "output_type": "stream",
     "text": [
      "Epoch 6: 100%|██████████| 233/233 [14:10<00:00,  3.65s/it]\n"
     ]
    },
    {
     "name": "stdout",
     "output_type": "stream",
     "text": [
      "Epoch 6, Average Loss: 4.989319324493408\n"
     ]
    },
    {
     "name": "stderr",
     "output_type": "stream",
     "text": [
      "Epoch 7: 100%|██████████| 233/233 [14:09<00:00,  3.65s/it]\n"
     ]
    },
    {
     "name": "stdout",
     "output_type": "stream",
     "text": [
      "Epoch 7, Average Loss: 5.210636873613612\n"
     ]
    },
    {
     "name": "stderr",
     "output_type": "stream",
     "text": [
      "Epoch 8: 100%|██████████| 233/233 [14:12<00:00,  3.66s/it]\n"
     ]
    },
    {
     "name": "stdout",
     "output_type": "stream",
     "text": [
      "Epoch 8, Average Loss: 5.2628019925350795\n"
     ]
    },
    {
     "name": "stderr",
     "output_type": "stream",
     "text": [
      "Epoch 9: 100%|██████████| 233/233 [14:12<00:00,  3.66s/it]\n"
     ]
    },
    {
     "name": "stdout",
     "output_type": "stream",
     "text": [
      "Epoch 9, Average Loss: 5.162152471460498\n"
     ]
    },
    {
     "name": "stderr",
     "output_type": "stream",
     "text": [
      "Epoch 10: 100%|██████████| 233/233 [14:08<00:00,  3.64s/it]\n"
     ]
    },
    {
     "name": "stdout",
     "output_type": "stream",
     "text": [
      "Epoch 10, Average Loss: 5.298331029425364\n"
     ]
    },
    {
     "name": "stderr",
     "output_type": "stream",
     "text": [
      "Epoch 11: 100%|██████████| 233/233 [14:02<00:00,  3.62s/it]\n"
     ]
    },
    {
     "name": "stdout",
     "output_type": "stream",
     "text": [
      "Epoch 11, Average Loss: 4.996688267703732\n"
     ]
    },
    {
     "name": "stderr",
     "output_type": "stream",
     "text": [
      "Epoch 12: 100%|██████████| 233/233 [14:08<00:00,  3.64s/it]\n"
     ]
    },
    {
     "name": "stdout",
     "output_type": "stream",
     "text": [
      "Epoch 12, Average Loss: 5.156979842247369\n"
     ]
    },
    {
     "name": "stderr",
     "output_type": "stream",
     "text": [
      "Epoch 13: 100%|██████████| 233/233 [14:03<00:00,  3.62s/it]\n"
     ]
    },
    {
     "name": "stdout",
     "output_type": "stream",
     "text": [
      "Epoch 13, Average Loss: 4.9024735121256295\n"
     ]
    },
    {
     "name": "stderr",
     "output_type": "stream",
     "text": [
      "Epoch 14: 100%|██████████| 233/233 [14:16<00:00,  3.68s/it]\n"
     ]
    },
    {
     "name": "stdout",
     "output_type": "stream",
     "text": [
      "Epoch 14, Average Loss: 5.101719230029716\n"
     ]
    },
    {
     "name": "stderr",
     "output_type": "stream",
     "text": [
      "Epoch 15: 100%|██████████| 233/233 [14:11<00:00,  3.65s/it]\n"
     ]
    },
    {
     "name": "stdout",
     "output_type": "stream",
     "text": [
      "Epoch 15, Average Loss: 4.929848856680383\n"
     ]
    },
    {
     "name": "stderr",
     "output_type": "stream",
     "text": [
      "Epoch 16: 100%|██████████| 233/233 [14:08<00:00,  3.64s/it]\n"
     ]
    },
    {
     "name": "stdout",
     "output_type": "stream",
     "text": [
      "Epoch 16, Average Loss: 4.802374737073423\n"
     ]
    },
    {
     "name": "stderr",
     "output_type": "stream",
     "text": [
      "Epoch 17: 100%|██████████| 233/233 [14:09<00:00,  3.65s/it]\n"
     ]
    },
    {
     "name": "stdout",
     "output_type": "stream",
     "text": [
      "Epoch 17, Average Loss: 4.877981944145563\n"
     ]
    },
    {
     "name": "stderr",
     "output_type": "stream",
     "text": [
      "Epoch 18: 100%|██████████| 233/233 [14:08<00:00,  3.64s/it]\n"
     ]
    },
    {
     "name": "stdout",
     "output_type": "stream",
     "text": [
      "Epoch 18, Average Loss: 4.673113635425404\n"
     ]
    },
    {
     "name": "stderr",
     "output_type": "stream",
     "text": [
      "Epoch 19: 100%|██████████| 233/233 [14:06<00:00,  3.63s/it]\n"
     ]
    },
    {
     "name": "stdout",
     "output_type": "stream",
     "text": [
      "Epoch 19, Average Loss: 4.8510186881978115\n"
     ]
    },
    {
     "name": "stderr",
     "output_type": "stream",
     "text": [
      "Epoch 20: 100%|██████████| 233/233 [14:08<00:00,  3.64s/it]\n"
     ]
    },
    {
     "name": "stdout",
     "output_type": "stream",
     "text": [
      "Epoch 20, Average Loss: 4.504130705743388\n"
     ]
    },
    {
     "name": "stderr",
     "output_type": "stream",
     "text": [
      "Epoch 21: 100%|██████████| 233/233 [14:06<00:00,  3.63s/it]\n"
     ]
    },
    {
     "name": "stdout",
     "output_type": "stream",
     "text": [
      "Epoch 21, Average Loss: 4.85905265449966\n"
     ]
    },
    {
     "name": "stderr",
     "output_type": "stream",
     "text": [
      "Epoch 22: 100%|██████████| 233/233 [14:08<00:00,  3.64s/it]\n"
     ]
    },
    {
     "name": "stdout",
     "output_type": "stream",
     "text": [
      "Epoch 22, Average Loss: 4.774344498507455\n"
     ]
    },
    {
     "name": "stderr",
     "output_type": "stream",
     "text": [
      "Epoch 23: 100%|██████████| 233/233 [14:08<00:00,  3.64s/it]\n"
     ]
    },
    {
     "name": "stdout",
     "output_type": "stream",
     "text": [
      "Epoch 23, Average Loss: 4.6385244021088265\n"
     ]
    },
    {
     "name": "stderr",
     "output_type": "stream",
     "text": [
      "Epoch 24: 100%|██████████| 233/233 [14:04<00:00,  3.63s/it]\n"
     ]
    },
    {
     "name": "stdout",
     "output_type": "stream",
     "text": [
      "Epoch 24, Average Loss: 4.6162575892624425\n"
     ]
    },
    {
     "name": "stderr",
     "output_type": "stream",
     "text": [
      "Epoch 25: 100%|██████████| 233/233 [14:11<00:00,  3.65s/it]\n"
     ]
    },
    {
     "name": "stdout",
     "output_type": "stream",
     "text": [
      "Epoch 25, Average Loss: 4.4232249584832415\n"
     ]
    },
    {
     "name": "stderr",
     "output_type": "stream",
     "text": [
      "Epoch 26: 100%|██████████| 233/233 [14:12<00:00,  3.66s/it]\n"
     ]
    },
    {
     "name": "stdout",
     "output_type": "stream",
     "text": [
      "Epoch 26, Average Loss: 4.317639903193379\n"
     ]
    },
    {
     "name": "stderr",
     "output_type": "stream",
     "text": [
      "Epoch 27: 100%|██████████| 233/233 [14:07<00:00,  3.64s/it]\n"
     ]
    },
    {
     "name": "stdout",
     "output_type": "stream",
     "text": [
      "Epoch 27, Average Loss: 4.250591804541232\n"
     ]
    },
    {
     "name": "stderr",
     "output_type": "stream",
     "text": [
      "Epoch 28: 100%|██████████| 233/233 [14:14<00:00,  3.67s/it]\n"
     ]
    },
    {
     "name": "stdout",
     "output_type": "stream",
     "text": [
      "Epoch 28, Average Loss: 4.367561268959946\n"
     ]
    },
    {
     "name": "stderr",
     "output_type": "stream",
     "text": [
      "Epoch 29: 100%|██████████| 233/233 [14:12<00:00,  3.66s/it]\n"
     ]
    },
    {
     "name": "stdout",
     "output_type": "stream",
     "text": [
      "Epoch 29, Average Loss: 4.264936363364494\n"
     ]
    },
    {
     "name": "stderr",
     "output_type": "stream",
     "text": [
      "Epoch 30: 100%|██████████| 233/233 [14:10<00:00,  3.65s/it]"
     ]
    },
    {
     "name": "stdout",
     "output_type": "stream",
     "text": [
      "Epoch 30, Average Loss: 4.178282370383136\n"
     ]
    },
    {
     "name": "stderr",
     "output_type": "stream",
     "text": [
      "\n"
     ]
    }
   ],
   "source": [
    "# Цикл по эпохам обучения\n",
    "for epoch in range(num_epochs):\n",
    "    # Перевод модели в режим обучения\n",
    "    model.train()\n",
    "    # Обнуление суммарной потери на текущей эпохе\n",
    "    total_loss = 0\n",
    "\n",
    "    # Итерация по батчам в DataLoader с отображением прогресса\n",
    "    for batch in tqdm(train_data_loader, desc=f\"Epoch {epoch + 1}\"):\n",
    "\n",
    "        # Извлечение входных данных (input_ids) и меток (labels) из текущего батча\n",
    "        inputs = batch[0][\"input_ids\"].to(device)\n",
    "        labels = batch[0][\"labels\"].to(device)\n",
    "\n",
    "        # Выравнивание длины последовательностей до минимальной длины в текущем батче\n",
    "        min_length = min(inputs.size(0), labels.size(0))\n",
    "        inputs = inputs[:min_length]\n",
    "        labels = labels[:min_length]\n",
    "\n",
    "        # Обнуление градиентов перед обратным распространением\n",
    "        optimizer.zero_grad()\n",
    "\n",
    "        # Получение выходов модели и вычисление потери\n",
    "        outputs = model(inputs, labels=labels.flatten())\n",
    "        loss = outputs.loss\n",
    "        total_loss += loss.item()\n",
    "\n",
    "\n",
    "        # Обратное распространение градиентов\n",
    "        loss.backward()\n",
    "\n",
    "        # Обновление весов модели с использованием оптимизатора\n",
    "        optimizer.step()\n",
    "\n",
    "    # Вычисление средней потери на текущей эпохе и вывод информации\n",
    "    average_loss = total_loss / len(train_data_loader)\n",
    "    losses.append(average_loss)\n",
    "    print(f\"Epoch {epoch + 1}, Average Loss: {average_loss}\")\n"
   ]
  },
  {
   "cell_type": "code",
   "execution_count": 21,
   "id": "7f22a87e",
   "metadata": {},
   "outputs": [
    {
     "data": {
      "image/png": "[encoded data removed]",
      "text/plain": [
       "<Figure size 1500x900 with 1 Axes>"
      ]
     },
     "metadata": {},
     "output_type": "display_data"
    }
   ],
   "source": [
    "plt.figure(figsize=(10, 6), dpi=150)\n",
    "\n",
    "plt.plot(range(0, len(losses)), losses, linestyle='-', color='b', linewidth=0.5, marker='', label='Training Loss')\n",
    "\n",
    "plt.xlabel('Epochs')\n",
    "plt.ylabel('Loss')\n",
    "plt.title('Training Loss Over Epochs')\n",
    "plt.legend()\n",
    "\n",
    "plt.show()"
   ]
  },
  {
   "cell_type": "code",
   "execution_count": 19,
   "id": "65973c57",
   "metadata": {},
   "outputs": [],
   "source": [
    "with open('./DZ2model/DialogGPT_2_ver2/losses.pkl', 'wb') as file:\n",
    "    pickle.dump(losses, file)"
   ]
  },
  {
   "cell_type": "code",
   "execution_count": 20,
   "id": "676d5d71",
   "metadata": {},
   "outputs": [
    {
     "data": {
      "text/plain": [
       "('./DZ2model/DialogGPT_2_ver2/tokenizer_config.json',\n",
       " './DZ2model/DialogGPT_2_ver2/special_tokens_map.json',\n",
       " './DZ2model/DialogGPT_2_ver2/vocab.json',\n",
       " './DZ2model/DialogGPT_2_ver2/merges.txt',\n",
       " './DZ2model/DialogGPT_2_ver2/added_tokens.json',\n",
       " './DZ2model/DialogGPT_2_ver2/tokenizer.json')"
      ]
     },
     "execution_count": 20,
     "metadata": {},
     "output_type": "execute_result"
    }
   ],
   "source": [
    "model.save_pretrained(\"./DZ2model/DialogGPT_2_ver2\")\n",
    "tokenizer.save_pretrained(\"./DZ2model/DialogGPT_2_ver2\")"
   ]
  }
 ],
 "metadata": {
  "kernelspec": {
   "display_name": "Python 3",
   "language": "python",
   "name": "python3"
  },
  "language_info": {
   "codemirror_mode": {
    "name": "ipython",
    "version": 3
   },
   "file_extension": ".py",
   "mimetype": "text/x-python",
   "name": "python",
   "nbconvert_exporter": "python",
   "pygments_lexer": "ipython3",
   "version": "3.10.13"
  },
  "papermill": {
   "default_parameters": {},
   "duration": 399.754217,
   "end_time": "2023-09-26T21:16:30.019434",
   "environment_variables": {},
   "exception": null,
   "input_path": "__notebook__.ipynb",
   "output_path": "__notebook__.ipynb",
   "parameters": {},
   "start_time": "2023-09-26T21:09:50.265217",
   "version": "2.4.0"
  }
 },
 "nbformat": 4,
 "nbformat_minor": 5
}
