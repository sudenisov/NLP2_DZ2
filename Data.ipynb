{
 "cells": [
  {
   "cell_type": "code",
   "execution_count": 12,
   "metadata": {},
   "outputs": [],
   "source": [
    "\n",
    "def GetData(dialogues_file_path = './data/dialogs.txt', yoda_file_path = './data/yoda_text.txt'):\n",
    "    # Список для хранения диалогов\n",
    "    dialogues_1 = []\n",
    "    dialogues_2 = []\n",
    "\n",
    "    # Чтение диалогов из файла и удаление префиксов\n",
    "    with open(dialogues_file_path, 'r', encoding='utf-8') as file_1, open(yoda_file_path, 'r', encoding='utf-8') as file_2:\n",
    "        lines = file_1.readlines()\n",
    "        alist_1 = []\n",
    "        for i in lines:\n",
    "            alist_1.append(i.rstrip('\\n'))\n",
    "        lines = file_2.readlines()\n",
    "        alist_2 = []\n",
    "        for i in lines:\n",
    "            alist_2.append(i.rstrip('\\n'))\n",
    "\n",
    "        # Обработка строк с диалогами\n",
    "        for i in range(len(alist_1)):\n",
    "            line_1 = alist_1[i]\n",
    "            line_2 = alist_2[i]\n",
    "            parts = line_1.split('\\t')\n",
    "            if len(parts) > 1:\n",
    "                dialogues_1.append(parts[0])\n",
    "                dialogues_2.append(line_2)\n",
    "\n",
    "    return dialogues_1, dialogues_2\n"
   ]
  },
  {
   "cell_type": "code",
   "execution_count": 14,
   "metadata": {},
   "outputs": [],
   "source": [
    "dialog_1, dialog_2 = GetData()"
   ]
  }
 ],
 "metadata": {
  "kernelspec": {
   "display_name": "nlp2",
   "language": "python",
   "name": "python3"
  },
  "language_info": {
   "codemirror_mode": {
    "name": "ipython",
    "version": 3
   },
   "file_extension": ".py",
   "mimetype": "text/x-python",
   "name": "python",
   "nbconvert_exporter": "python",
   "pygments_lexer": "ipython3",
   "version": "3.10.13"
  }
 },
 "nbformat": 4,
 "nbformat_minor": 2
}
